{
  "cells": [
    {
      "cell_type": "markdown",
      "metadata": {
        "id": "M-DGa20PaHnu"
      },
      "source": [
        "#Задача 1\n",
        "Написать функцию на вход которой подается строка, состоящая из латинских букв.\n",
        "Функция должна вернуть количество гласных букв (a, e, i, o, u) в этой строке. Написать тесты для кода"
      ]
    },
    {
      "cell_type": "code",
      "execution_count": 54,
      "metadata": {
        "id": "XvX8X_JJ6PCb"
      },
      "outputs": [
        {
          "name": "stdout",
          "output_type": "stream",
          "text": [
            "✅ 'Hello World' -> 3\n",
            "✅ 'aeiou' -> 5\n",
            "✅ 'AEIOU' -> 5\n",
            "✅ 'bcdfg' -> 0\n",
            "✅ '' -> 0\n",
            "✅ 'aEiOu' -> 5\n",
            "✅ 'Hello, World! How are you?' -> 8\n",
            "✅ 'a1e2i3o4u5' -> 5\n",
            "\n",
            "Все тесты пройдены!\n"
          ]
        }
      ],
      "source": [
        "def count_vowels(text):\n",
        "    text = text.lower()\n",
        "    vowels = {'a', 'e', 'i', 'o', 'u'}\n",
        "    count = 0\n",
        "    for char in text:\n",
        "        if char in vowels:\n",
        "            count += 1\n",
        "    return count\n",
        "\n",
        "def test_count_vowels():\n",
        "    \n",
        "    test_cases = [\n",
        "        (\"Hello World\", 3),\n",
        "        (\"aeiou\", 5),\n",
        "        (\"AEIOU\", 5),\n",
        "        (\"bcdfg\", 0),\n",
        "        (\"\", 0),\n",
        "        (\"aEiOu\", 5),\n",
        "        (\"Hello, World! How are you?\", 8),\n",
        "        (\"a1e2i3o4u5\", 5)\n",
        "    ]\n",
        "    \n",
        "    \n",
        "    all_passed = True\n",
        "    for input_text, expected in test_cases:\n",
        "        result = count_vowels(input_text)\n",
        "        if result == expected:\n",
        "            print(f\"✅ '{input_text}' -> {result}\")\n",
        "        else:\n",
        "            print(f\"❌ '{input_text}' -> ожидалось {expected}, получено {result}\")\n",
        "            all_passed = False\n",
        "    \n",
        "    print(f\"\\n{'Все тесты пройдены!' if all_passed else 'Есть ошибки!'}\")\n",
        "\n",
        "test_count_vowels()\n"
      ]
    },
    {
      "cell_type": "markdown",
      "metadata": {
        "id": "t2ClV_Y0bbr6"
      },
      "source": [
        "# Задача 2\n",
        "Написать функцию на вход, которой подается строка. Функция должна вернуть true, если\n",
        "каждый символ в строке встречается только 1 раз, иначе должна вернуть false. Написать тесты для кода"
      ]
    },
    {
      "cell_type": "code",
      "execution_count": 55,
      "metadata": {
        "id": "FppbECao6VIz"
      },
      "outputs": [
        {
          "name": "stdout",
          "output_type": "stream",
          "text": [
            "✅ 'abcdef' -> True\n",
            "✅ 'hello' -> False\n",
            "✅ '' -> True\n",
            "✅ 'a' -> True\n",
            "✅ 'aa' -> False\n",
            "✅ 'abc def' -> True\n",
            "✅ 'a  b' -> False\n",
            "✅ 'a!b@c#' -> True\n",
            "✅ 'a!!b' -> False\n",
            "✅ '123456' -> True\n",
            "✅ '112345' -> False\n",
            "✅ 'abcdefghijklmnopqrstuvwxyz' -> True\n",
            "✅ 'abcdefghijklmnopqrstuvwxyzz' -> False\n",
            "\n",
            " Все тесты пройдены!\n"
          ]
        }
      ],
      "source": [
        "def is_unique_chars(string):\n",
        "    return len(string) == len(set(string))\n",
        "\n",
        "def test_is_unique_chars():\n",
        "    \n",
        "    test_cases = [\n",
        "        (\"abcdef\", True),\n",
        "        (\"hello\", False),\n",
        "        (\"\", True),\n",
        "        (\"a\", True),\n",
        "        (\"aa\", False),\n",
        "        (\"abc def\", True),\n",
        "        (\"a  b\", False),\n",
        "        (\"a!b@c#\", True),\n",
        "        (\"a!!b\", False),\n",
        "        (\"123456\", True),\n",
        "        (\"112345\", False),\n",
        "        (\"abcdefghijklmnopqrstuvwxyz\", True),\n",
        "        (\"abcdefghijklmnopqrstuvwxyzz\", False),\n",
        "    ]\n",
        "    \n",
        "    \n",
        "    all_passed = True\n",
        "    for input_text, expected in test_cases:\n",
        "        result = is_unique_chars(input_text)\n",
        "        if result == expected:\n",
        "            print(f\"✅ '{input_text}' -> {result}\")\n",
        "        else:\n",
        "            print(f\"❌ '{input_text}' -> ожидалось {expected}, получено {result}\")\n",
        "            all_passed = False\n",
        "    \n",
        "    print(f\"\\n{' Все тесты пройдены!' if all_passed else 'Есть ошибки!'}\")\n",
        "\n",
        "test_is_unique_chars()\n"
      ]
    },
    {
      "cell_type": "markdown",
      "metadata": {
        "id": "udRiIK1cdt6E"
      },
      "source": [
        "# Задача 3\n",
        "Написать функцию, которая принимает положительное число и возвращает количество\n",
        "бит равных 1 в этом числе. Написать тесты для кода"
      ]
    },
    {
      "cell_type": "code",
      "execution_count": 45,
      "metadata": {
        "id": "6tkfDJRz6dp_"
      },
      "outputs": [
        {
          "name": "stdout",
          "output_type": "stream",
          "text": [
            "✅    0 -> 0\n",
            "✅    1 -> 1\n",
            "✅    2 -> 1\n",
            "✅    3 -> 2\n",
            "✅    4 -> 1\n",
            "✅   31 -> 5\n",
            "✅   32 -> 1\n",
            "✅   63 -> 6\n",
            "✅   64 -> 1\n",
            "✅   85 -> 4\n",
            "✅  127 -> 7\n",
            "✅  255 -> 8\n",
            "✅ 1023 -> 10\n",
            "\n",
            "Все тесты пройдены!\n"
          ]
        }
      ],
      "source": [
        "def count_bits(n):\n",
        "    if n < 0:\n",
        "        raise ValueError(\"Число должно быть положительным\")\n",
        "    return bin(n).count('1')\n",
        "\n",
        "def test_count_bits():\n",
        "    \n",
        "    test_cases = [\n",
        "        (0,0 ),\n",
        "        (1, 1),\n",
        "        (2, 1),\n",
        "        (3, 2),\n",
        "        (4, 1),\n",
        "        (31, 5),\n",
        "        (32, 1),\n",
        "        (63, 6),\n",
        "        (64, 1),\n",
        "        (85, 4),\n",
        "        (127, 7),\n",
        "        (255, 8),\n",
        "        (1023, 10),\n",
        "    ]\n",
        "    \n",
        "    \n",
        "    all_passed = True\n",
        "    for num, expected in test_cases:\n",
        "        result = count_bits(num)\n",
        "        if result == expected:\n",
        "            print(f\"✅ {num:4d} -> {result}\")\n",
        "        else:\n",
        "            print(f\"❌ {num:4d} -> ожидалось {expected}, получено {result}\")\n",
        "            all_passed = False\n",
        "    \n",
        "    \n",
        "    print(f\"\\n{'Все тесты пройдены!' if all_passed else 'Есть ошибки!'}\")\n",
        "\n",
        "\n",
        "test_count_bits()"
      ]
    },
    {
      "cell_type": "markdown",
      "metadata": {
        "id": "26dDUz-Ae17N"
      },
      "source": [
        "# Задача 4\n",
        "Написать функцию, которая принимает положительное число. Функция должна вернуть то,\n",
        "сколько раз необходимо перемножать цифры числа или результат перемножения, чтобы\n",
        "получилось число состоящее из одной цифры.\n",
        "Например, для входного числа:\n",
        "· 39 функция должна вернуть 3, так как 3*9=27 => 2*7=14 => 1*4=4\n",
        "· 4 функция должна вернуть 0, так как число уже состоит из одной цифры\n",
        "· 999 функция должна вернуть 4, так как 9*9*9=729 => 7*2*9=126 => 1*2*6=12 =>\n",
        "1*2=2. Написать тесты для кода"
      ]
    },
    {
      "cell_type": "code",
      "execution_count": 29,
      "metadata": {
        "id": "BH1A_Mgi6i4G"
      },
      "outputs": [
        {
          "name": "stdout",
          "output_type": "stream",
          "text": [
            "✅ 39 -> 3\n",
            "✅ 4 -> 0\n",
            "✅ 999 -> 4\n",
            "✅ 10 -> 1\n",
            "✅ 25 -> 2\n",
            "✅ 1 -> 0\n",
            "✅ 77 -> 4\n",
            "✅ 123 -> 1\n",
            "✅ 6788 -> 6\n",
            "\n",
            "Все тесты пройдены!\n"
          ]
        }
      ],
      "source": [
        "def magic(n):\n",
        "    if n < 0:\n",
        "        raise ValueError(\"Число должно быть положительным\")\n",
        "    \n",
        "    if n < 10:\n",
        "        return 0\n",
        "    \n",
        "    steps = 0\n",
        "    current = n\n",
        "    \n",
        "    while current >= 10:\n",
        "        product = 1\n",
        "        for digit in str(current):\n",
        "            product *= int(digit)\n",
        "        \n",
        "        current = product\n",
        "        steps += 1\n",
        "    \n",
        "    return steps\n",
        "\n",
        "def test_magic():\n",
        "    \n",
        "    test_cases = [\n",
        "        (39, 3),    # 39→27→14→4\n",
        "        (4, 0),     # Уже однозначное\n",
        "        (999, 4),   # 999→729→126→12→2\n",
        "        (10, 1),    # 10→0\n",
        "        (25, 2),    # 25→10→0\n",
        "        (1, 0),     # Уже однозначное\n",
        "        (77, 4),    # 77→49→36→18→8\n",
        "        (123, 1),   # 123→6\n",
        "        (6788, 6),  # 6788→2688→768→336→54→20→0\n",
        "    ]\n",
        "    \n",
        "    \n",
        "    all_passed = True\n",
        "    for n, expected in test_cases:\n",
        "        result = magic(n)\n",
        "        if result == expected:\n",
        "            print(f\"✅ {n} -> {result}\")\n",
        "        else:\n",
        "            print(f\"❌ {n} -> ожидалось {expected}, получено {result}\")\n",
        "            all_passed = False\n",
        "    \n",
        "    print(f\"\\n{'Все тесты пройдены!' if all_passed else ' Есть ошибки!'}\")\n",
        "\n",
        "# Запускаем тесты\n",
        "test_magic()"
      ]
    },
    {
      "cell_type": "markdown",
      "metadata": {
        "id": "0nS-kIa8g8vd"
      },
      "source": [
        "# Задача 5\n",
        "Написать функцию, которая принимает два целочисленных вектора одинаковой длины и\n",
        "возвращает среднеквадратическое отклонение двух векторов. Написать тесты для кода"
      ]
    },
    {
      "cell_type": "code",
      "execution_count": 43,
      "metadata": {
        "id": "8iphx4LM6xbx"
      },
      "outputs": [
        {
          "name": "stdout",
          "output_type": "stream",
          "text": [
            "✅ Одинаковые векторы -> 0.0\n",
            "✅ Постоянное отклонение -> 1.0\n",
            "✅ Разные отклонения -> 9.666667\n",
            "✅ Отрицательные числа -> 1.666667\n",
            "✅ Один элемент -> 4.0\n",
            "\n",
            " Все тесты пройдены!\n"
          ]
        }
      ],
      "source": [
        "import numpy as np\n",
        "\n",
        "def mse(pred, true):\n",
        "    if len(pred) != len(true):\n",
        "        raise ValueError(\"Векторы должны быть одинаковой длины\")\n",
        "    \n",
        "    pred = np.array(pred)\n",
        "    true = np.array(true)\n",
        "    \n",
        "    squared_errors = (pred - true) ** 2\n",
        "    return np.mean(squared_errors)\n",
        "\n",
        "def test_mse():\n",
        "    \n",
        "    all_passed = True\n",
        "    \n",
        "    # Тест 1: Одинаковые векторы\n",
        "    pred = [1, 2, 3, 4, 5]\n",
        "    true = [1, 2, 3, 4, 5]\n",
        "    result = mse(pred, true)\n",
        "    expected = 0.0\n",
        "    if abs(result - expected) < 1e-10:\n",
        "        print(f\"✅ Одинаковые векторы -> {result}\")\n",
        "    else:\n",
        "        print(f\"❌ Одинаковые векторы -> ожидалось {expected}, получено {result}\")\n",
        "        all_passed = False\n",
        "    \n",
        "    # Тест 2: Постоянное отклонение\n",
        "    pred = [2, 3, 4, 5, 6]\n",
        "    true = [1, 2, 3, 4, 5]\n",
        "    result = mse(pred, true)\n",
        "    expected = 1.0  # (1^2 + 1^2 + 1^2 + 1^2 + 1^2) / 5 = 1.0\n",
        "    if abs(result - expected) < 1e-10:\n",
        "        print(f\"✅ Постоянное отклонение -> {result}\")\n",
        "    else:\n",
        "        print(f\"❌ Постоянное отклонение -> ожидалось {expected}, получено {result}\")\n",
        "        all_passed = False\n",
        "    \n",
        "    # Тест 3: Разные отклонения\n",
        "    pred = [3, 5, 7]\n",
        "    true = [1, 2, 3]\n",
        "    result = mse(pred, true)\n",
        "    expected = (4 + 9 + 16) / 3  # (2^2 + 3^2 + 4^2) / 3 = 29/3 ≈ 9.666...\n",
        "    if abs(result - expected) < 1e-10:\n",
        "        print(f\"✅ Разные отклонения -> {result:.6f}\")\n",
        "    else:\n",
        "        print(f\"❌ Разные отклонения -> ожидалось {expected:.6f}, получено {result:.6f}\")\n",
        "        all_passed = False\n",
        "    \n",
        "    # Тест 4: Отрицательные числа\n",
        "    pred = [-1, 0, 1]\n",
        "    true = [1, 1, 1]\n",
        "    result = mse(pred, true)\n",
        "    expected = (4 + 1 + 0) / 3  # 5/3 ≈ 1.666...\n",
        "    if abs(result - expected) < 1e-10:\n",
        "        print(f\"✅ Отрицательные числа -> {result:.6f}\")\n",
        "    else:\n",
        "        print(f\"❌ Отрицательные числа -> ожидалось {expected:.6f}, получено {result:.6f}\")\n",
        "        all_passed = False\n",
        "    \n",
        "    # Тест 5: Один элемент\n",
        "    pred = [5]\n",
        "    true = [3]\n",
        "    result = mse(pred, true)\n",
        "    expected = 4.0  # (2^2) = 4\n",
        "    if abs(result - expected) < 1e-10:\n",
        "        print(f\"✅ Один элемент -> {result}\")\n",
        "    else:\n",
        "        print(f\"❌ Один элемент -> ожидалось {expected}, получено {result}\")\n",
        "        all_passed = False\n",
        "    \n",
        "    \n",
        "    print(f\"\\n{' Все тесты пройдены!' if all_passed else 'Есть ошибки!'}\")\n",
        "\n",
        "test_mse()"
      ]
    },
    {
      "cell_type": "markdown",
      "metadata": {
        "id": "vpIPKL439zkw"
      },
      "source": [
        "# Задача 6\n",
        "Написать функцию, принимающая целое положительное число. Функция должна вернуть\n",
        "строку вида “(n1**p1)(n2**p2)…(nk**pk)” представляющая разложение числа на простые\n",
        "множители (если pi == 1, то выводить только ni).\n",
        "Например, для числа 86240 функция должна вернуть “(2**5)(5)(7**2)(11)”. Написать тесты для кода"
      ]
    },
    {
      "cell_type": "code",
      "execution_count": 38,
      "metadata": {
        "id": "pFebmcZk94Jw"
      },
      "outputs": [
        {
          "name": "stdout",
          "output_type": "stream",
          "text": [
            "✅ 1 -> (1)\n",
            "✅ 2 -> (2)\n",
            "✅ 4 -> (2**2)\n",
            "✅ 6 -> (2)(3)\n",
            "✅ 8 -> (2**3)\n",
            "✅ 9 -> (3**2)\n",
            "✅ 12 -> (2**2)(3)\n",
            "✅ 15 -> (3)(5)\n",
            "✅ 86240 -> (2**5)(5)(7**2)(11)\n",
            "✅ 17 -> (17)\n",
            "✅ 100 -> (2**2)(5**2)\n",
            "✅ 123456 -> (2**6)(3)(643)\n",
            "\n",
            " Все тесты пройдены!\n"
          ]
        }
      ],
      "source": [
        "def prime_factors(n):\n",
        "    if n <= 0:\n",
        "        raise ValueError(\"Число должно быть положительным\")\n",
        "    if n == 1:\n",
        "        return \"(1)\"\n",
        "    \n",
        "    factors = {}\n",
        "    temp = n\n",
        "    divisor = 2\n",
        "    \n",
        "    while temp > 1:\n",
        "        while temp % divisor == 0:\n",
        "            factors[divisor] = factors.get(divisor, 0) + 1\n",
        "            temp //= divisor\n",
        "        divisor += 1\n",
        "    \n",
        "    result = \"\"\n",
        "    for prime in sorted(factors.keys()):\n",
        "        power = factors[prime]\n",
        "        if power == 1:\n",
        "            result += f\"({prime})\"\n",
        "        else:\n",
        "            result += f\"({prime}**{power})\"\n",
        "    \n",
        "    return result\n",
        "\n",
        "def test_prime_factors():\n",
        "    \n",
        "    test_cases = [\n",
        "        (1, \"(1)\"),\n",
        "        (2, \"(2)\"),\n",
        "        (4, \"(2**2)\"),\n",
        "        (6, \"(2)(3)\"),\n",
        "        (8, \"(2**3)\"),\n",
        "        (9, \"(3**2)\"),\n",
        "        (12, \"(2**2)(3)\"),\n",
        "        (15, \"(3)(5)\"),\n",
        "        (86240, \"(2**5)(5)(7**2)(11)\"),\n",
        "        (17, \"(17)\"),\n",
        "        (100, \"(2**2)(5**2)\"),\n",
        "        (123456, \"(2**6)(3)(643)\"),\n",
        "    ]\n",
        "    \n",
        "    \n",
        "    all_passed = True\n",
        "    for n, expected in test_cases:\n",
        "        result = prime_factors(n)\n",
        "        if result == expected:\n",
        "            print(f\"✅ {n} -> {result}\")\n",
        "        else:\n",
        "            print(f\"❌ {n} -> ожидалось {expected}, получено {result}\")\n",
        "            all_passed = False\n",
        "    \n",
        "    print(f\"\\n{' Все тесты пройдены!' if all_passed else 'Есть ошибки!'}\")\n",
        "\n",
        "test_prime_factors()"
      ]
    },
    {
      "cell_type": "markdown",
      "metadata": {
        "id": "ps2s0BudX7A2"
      },
      "source": [
        "# Задача 7\n",
        "Написать функцию, принимающая целое число n, задающее количество кубиков. Функция\n",
        "должна определить, можно ли из данного кол-ва кубиков построить пирамиду, то есть\n",
        "можно ли представить число n как 1^2+2^2+3^2+…+k^2. Если можно, то функция должна\n",
        "вернуть k, иначе строку “It is impossible”. Написать тесты для кода"
      ]
    },
    {
      "cell_type": "code",
      "execution_count": 42,
      "metadata": {
        "id": "3YPjEXxhX_YT"
      },
      "outputs": [
        {
          "name": "stdout",
          "output_type": "stream",
          "text": [
            "✅ 1 -> 1\n",
            "✅ 5 -> 2\n",
            "✅ 14 -> 3\n",
            "✅ 30 -> 4\n",
            "✅ 55 -> 5\n",
            "✅ 91 -> 6\n",
            "✅ 140 -> 7\n",
            "✅ 0 -> It is impossible\n",
            "✅ 2 -> It is impossible\n",
            "✅ 15 -> It is impossible\n",
            "\n",
            "Все тесты пройдены!\n"
          ]
        }
      ],
      "source": [
        "def pyramid(number):\n",
        "    if number <= 0:\n",
        "        return \"It is impossible\"\n",
        "    \n",
        "    k = 0\n",
        "    total = 0\n",
        "\n",
        "    while total < number:\n",
        "        k += 1\n",
        "        total += k * k\n",
        "        if total == number:\n",
        "            return k\n",
        "    \n",
        "    return \"It is impossible\"\n",
        "\n",
        "def test_pyramid():\n",
        "    \"\"\"Тесты для функции pyramid\"\"\"\n",
        "    \n",
        "    test_cases = [\n",
        "        (1, 1),           # 1² = 1\n",
        "        (5, 2),           # 1² + 2² = 1 + 4 = 5\n",
        "        (14, 3),          # 1² + 2² + 3² = 1 + 4 + 9 = 14\n",
        "        (30, 4),          # 1² + 2² + 3² + 4² = 1 + 4 + 9 + 16 = 30\n",
        "        (55, 5),          # 1² + 2² + 3² + 4² + 5² = 55\n",
        "        (91, 6),          # 1² + 2² + 3² + 4² + 5² + 6² = 91\n",
        "        (140, 7),         # 1² + ... + 7² = 140\n",
        "        (0, \"It is impossible\"),\n",
        "        (2, \"It is impossible\"),\n",
        "        (15, \"It is impossible\"),\n",
        "    ]\n",
        "    \n",
        "    all_passed = True\n",
        "    for number, expected in test_cases:\n",
        "        result = pyramid(number)\n",
        "        if result == expected:\n",
        "            print(f\"✅ {number} -> {result}\")\n",
        "        else:\n",
        "            print(f\"❌ {number} -> ожидалось {expected}, получено {result}\")\n",
        "            all_passed = False\n",
        "    \n",
        "    print(f\"\\n{'Все тесты пройдены!' if all_passed else 'Есть ошибки!'}\")\n",
        "\n",
        "test_pyramid()\n"
      ]
    },
    {
      "cell_type": "markdown",
      "metadata": {
        "id": "KeKgmIdAQMEJ"
      },
      "source": [
        "# Задача 8\n",
        "Функция принимает на вход положительное число и определяет является ли оно сбалансированным, т.е. сумма цифр до средних равна сумме цифр после. Средними в случае нечетного числа цифр считать одну цифру, в случае четного - две средних. Написать тесты для кода"
      ]
    },
    {
      "cell_type": "code",
      "execution_count": 53,
      "metadata": {
        "id": "gMAAqtqlQrZt"
      },
      "outputs": [
        {
          "name": "stdout",
          "output_type": "stream",
          "text": [
            "✅ 1 -> True\n",
            "✅ 11 -> True\n",
            "✅ 121 -> True\n",
            "✅ 1234 -> False\n",
            "✅ 123321 -> True\n",
            "✅ 1234321 -> True\n",
            "✅ 12344321 -> True\n",
            "✅ 1111 -> True\n",
            "✅ 1122 -> False\n",
            "✅ 12321 -> True\n",
            "✅ 123456 -> False\n",
            "✅ 123404321 -> True\n",
            "\n",
            "Все тесты пройдены!\n"
          ]
        }
      ],
      "source": [
        "import numpy as np\n",
        "\n",
        "def is_balanced(number):\n",
        "    digits = np.array([int(d) for d in str(number)])\n",
        "    n = len(digits)\n",
        "\n",
        "    if n == 1:\n",
        "        return True\n",
        "\n",
        "    if n % 2 == 0:\n",
        "        mid = n // 2\n",
        "        left_sum = np.sum(digits[:mid - 1]) \n",
        "        right_sum = np.sum(digits[mid + 1:])\n",
        "    else: \n",
        "        mid = n // 2\n",
        "        left_sum = np.sum(digits[:mid])    \n",
        "        right_sum = np.sum(digits[mid + 1:]) \n",
        "    \n",
        "    return left_sum == right_sum\n",
        "\n",
        "def test_is_balanced():\n",
        "    \n",
        "    test_cases = [\n",
        "        (1, True),           # 1 цифра - всегда сбалансировано\n",
        "        (11, True),          # 11 -> |1|1|, сумма слева и справа от двух средних: 0 == 0\n",
        "        (121, True),         # 121 -> 1|2|1, 1 == 1\n",
        "        (1234, False),       # 1234 -> 1|23|4, 1 != 4\n",
        "        (123321, True),      # 123321 -> 12|33|21, 1+2 == 2+1\n",
        "        (1234321, True),     # 1234321 -> 123|4|321, 1+2+3 == 3+2+1\n",
        "        (12344321, True),    # 12344321 -> 123|44|321, 1+2+3 == 3+2+1\n",
        "        (1111, True),        # 1111 -> 1|11|1, 1 == 1\n",
        "        (1122, False),       # 1122 -> 1|12|2, 1 != 2\n",
        "        (12321, True),       # 12321 -> 12|3|21, 1+2 == 2+1\n",
        "        (123456, False),     # 123456 -> 12|34|56, 1+2 != 5+6\n",
        "        (123404321, True),   # 123404321 -> 1234|0|4321, 1+2+3+4 == 4+3+2+1\n",
        "    ]\n",
        "    \n",
        "    all_passed = True\n",
        "    for number, expected in test_cases:\n",
        "        result = is_balanced(number)\n",
        "        if result == expected:\n",
        "            print(f\"✅ {number} -> {result}\")\n",
        "        else:\n",
        "            print(f\"❌ {number} -> ожидалось {expected}, получено {result}\")\n",
        "            all_passed = False\n",
        "    \n",
        "    print(f\"\\n{'Все тесты пройдены!' if all_passed else 'Есть ошибки!'}\")\n",
        "\n",
        "test_is_balanced()"
      ]
    }
  ],
  "metadata": {
    "colab": {
      "provenance": []
    },
    "kernelspec": {
      "display_name": "Python 3",
      "name": "python3"
    },
    "language_info": {
      "codemirror_mode": {
        "name": "ipython",
        "version": 3
      },
      "file_extension": ".py",
      "mimetype": "text/x-python",
      "name": "python",
      "nbconvert_exporter": "python",
      "pygments_lexer": "ipython3",
      "version": "3.12.1"
    }
  },
  "nbformat": 4,
  "nbformat_minor": 0
}
