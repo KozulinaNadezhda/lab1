{
  "cells": [
    {
      "cell_type": "markdown",
      "metadata": {
        "id": "vC84e9kzyxPy"
      },
      "source": [
        "<h1>Импорт библиотек"
      ]
    },
    {
      "cell_type": "code",
      "execution_count": 3,
      "metadata": {
        "id": "cgKeNegmQG5S"
      },
      "outputs": [],
      "source": [
        "import numpy as np\n",
        "import matplotlib.pyplot as plt"
      ]
    },
    {
      "cell_type": "markdown",
      "metadata": {
        "id": "qFM9uVU2x4Ls"
      },
      "source": [
        "<h1>Задача 1. Дан набор из $p$ матриц размерностью $(n, n)$ и $p$ векторов размерностью $(n, 1)$, найти сумму произведений матриц на векторы. Написать тесты для кода"
      ]
    },
    {
      "cell_type": "code",
      "execution_count": 3,
      "metadata": {
        "id": "IAbUvEiYyWFF"
      },
      "outputs": [
        {
          "name": "stdout",
          "output_type": "stream",
          "text": [
            "✅ Одна матрица и один вектор\n",
            "✅ Две матрицы и два вектора\n",
            "✅ Три матрицы 3x3\n",
            "✅ Нулевые матрицы\n"
          ]
        }
      ],
      "source": [
        "import numpy as np\n",
        "\n",
        "def sum_prod(X, V):\n",
        "    result = np.zeros_like(X[0] @ V[0])\n",
        "    \n",
        "    for i in range(len(X)):\n",
        "        result += X[i] @ V[i]\n",
        "    \n",
        "    return result\n",
        "\n",
        "def test_sum_prod():\n",
        "    \n",
        "    # Тест 1: Одна матрица и один вектор\n",
        "    X = [np.array([[1, 2], [3, 4]])]\n",
        "    V = [np.array([[1], [2]])]\n",
        "    result = sum_prod(X, V)\n",
        "    expected = np.array([[5], [11]])\n",
        "    if np.array_equal(result, expected):\n",
        "        print(\"✅ Одна матрица и один вектор\")\n",
        "    else:\n",
        "        print(f\"❌ Одна матрица и один вектор: ожидалось {expected}, получено {result}\")\n",
        "    \n",
        "    # Тест 2: Две матрицы и два вектора\n",
        "    X = [\n",
        "        np.array([[1, 0], [0, 1]]),\n",
        "        np.array([[2, 0], [0, 2]])\n",
        "    ]\n",
        "    V = [\n",
        "        np.array([[1], [2]]),\n",
        "        np.array([[3], [4]])\n",
        "    ]\n",
        "    result = sum_prod(X, V)\n",
        "    expected = np.array([[7], [10]])\n",
        "    if np.array_equal(result, expected):\n",
        "        print(\"✅ Две матрицы и два вектора\")\n",
        "    else:\n",
        "        print(f\"❌ Две матрицы и два вектора: ожидалось {expected}, получено {result}\")\n",
        "    \n",
        "    # Тест 3: Три матрицы 3x3\n",
        "    X = [\n",
        "        np.array([[1, 0, 0], [0, 1, 0], [0, 0, 1]]),\n",
        "        np.array([[2, 0, 0], [0, 2, 0], [0, 0, 2]]),\n",
        "        np.array([[0, 1, 0], [1, 0, 0], [0, 0, 1]])\n",
        "    ]\n",
        "    V = [\n",
        "        np.array([[1], [0], [0]]),\n",
        "        np.array([[0], [1], [0]]),\n",
        "        np.array([[0], [0], [1]])\n",
        "    ]\n",
        "    result = sum_prod(X, V)\n",
        "    expected = np.array([[1], [2], [1]])\n",
        "    if np.array_equal(result, expected):\n",
        "        print(\"✅ Три матрицы 3x3\")\n",
        "    else:\n",
        "        print(f\"❌ Три матрицы 3x3: ожидалось {expected}, получено {result}\")\n",
        "    \n",
        "    # Тест 4: Нулевые матрицы\n",
        "    X = [\n",
        "        np.array([[0, 0], [0, 0]]),\n",
        "        np.array([[0, 0], [0, 0]])\n",
        "    ]\n",
        "    V = [\n",
        "        np.array([[1], [1]]),\n",
        "        np.array([[2], [2]])\n",
        "    ]\n",
        "    result = sum_prod(X, V)\n",
        "    expected = np.array([[0], [0]])\n",
        "    if np.array_equal(result, expected):\n",
        "        print(\"✅ Нулевые матрицы\")\n",
        "    else:\n",
        "        print(f\"❌ Нулевые матрицы: ожидалось {expected}, получено {result}\")\n",
        "\n",
        "test_sum_prod()"
      ]
    },
    {
      "cell_type": "markdown",
      "metadata": {
        "id": "TKwPG4fIy2w4"
      },
      "source": [
        "<h1>Задача 2. Дана матрица M, напишите функцию, которая бинаризует матрицу по некоторому threshold (то есть, все значения большие threshold становятся равными 1, иначе 0). Напишите тесты для кода"
      ]
    },
    {
      "cell_type": "code",
      "execution_count": 4,
      "metadata": {
        "id": "KQDNMgsjRNH7"
      },
      "outputs": [
        {
          "name": "stdout",
          "output_type": "stream",
          "text": [
            "✅ Базовый случай с порогом 0.5\n",
            "✅ Пользовательский порог 0.6\n",
            "✅ Все значения выше порога\n",
            "✅ Все значения ниже порога\n",
            "✅ Граничные значения (строго больше)\n",
            "✅ Отрицательные значения\n"
          ]
        }
      ],
      "source": [
        "import numpy as np\n",
        "\n",
        "def binarize(M, threshold=0.5):\n",
        "    return (M > threshold).astype(int)\n",
        "\n",
        "def test_binarize():\n",
        "    \n",
        "    # Тест 1: Базовый случай с порогом по умолчанию\n",
        "    M1 = np.array([[0.1, 0.6], [0.4, 0.9]])\n",
        "    result1 = binarize(M1)\n",
        "    expected1 = np.array([[0, 1], [0, 1]])\n",
        "    if np.array_equal(result1, expected1):\n",
        "        print(\"✅ Базовый случай с порогом 0.5\")\n",
        "    else:\n",
        "        print(f\"❌ Базовый случай: ожидалось {expected1}, получено {result1}\")\n",
        "    \n",
        "    # Тест 2: Пользовательский порог\n",
        "    M2 = np.array([[0.2, 0.7], [0.3, 0.8]])\n",
        "    result2 = binarize(M2, threshold=0.6)\n",
        "    expected2 = np.array([[0, 1], [0, 1]])\n",
        "    if np.array_equal(result2, expected2):\n",
        "        print(\"✅ Пользовательский порог 0.6\")\n",
        "    else:\n",
        "        print(f\"❌ Пользовательский порог: ожидалось {expected2}, получено {result2}\")\n",
        "    \n",
        "    # Тест 3: Все значения выше порога\n",
        "    M3 = np.array([[0.9, 0.8], [0.7, 0.6]])\n",
        "    result3 = binarize(M3, threshold=0.5)\n",
        "    expected3 = np.array([[1, 1], [1, 1]])\n",
        "    if np.array_equal(result3, expected3):\n",
        "        print(\"✅ Все значения выше порога\")\n",
        "    else:\n",
        "        print(f\"❌ Все значения выше порога: ожидалось {expected3}, получено {result3}\")\n",
        "    \n",
        "    # Тест 4: Все значения ниже порога\n",
        "    M4 = np.array([[0.1, 0.2], [0.3, 0.4]])\n",
        "    result4 = binarize(M4, threshold=0.5)\n",
        "    expected4 = np.array([[0, 0], [0, 0]])\n",
        "    if np.array_equal(result4, expected4):\n",
        "        print(\"✅ Все значения ниже порога\")\n",
        "    else:\n",
        "        print(f\"❌ Все значения ниже порога: ожидалось {expected4}, получено {result4}\")\n",
        "    \n",
        "    # Тест 5: Граничные значения (равные порогу)\n",
        "    M5 = np.array([[0.5, 0.5], [0.5, 0.5]])\n",
        "    result5 = binarize(M5, threshold=0.5)\n",
        "    expected5 = np.array([[0, 0], [0, 0]])  # > threshold, а не >=\n",
        "    if np.array_equal(result5, expected5):\n",
        "        print(\"✅ Граничные значения (строго больше)\")\n",
        "    else:\n",
        "        print(f\"❌ Граничные значения: ожидалось {expected5}, получено {result5}\")\n",
        "    \n",
        "    # Тест 6: Отрицательные значения\n",
        "    M6 = np.array([[-1.0, 0.0], [0.5, 1.0]])\n",
        "    result6 = binarize(M6, threshold=0.0)\n",
        "    expected6 = np.array([[0, 0], [1, 1]])\n",
        "    if np.array_equal(result6, expected6):\n",
        "        print(\"✅ Отрицательные значения\")\n",
        "    else:\n",
        "        print(f\"❌ Отрицательные значения: ожидалось {expected6}, получено {result6}\")\n",
        "\n",
        "test_binarize()\n"
      ]
    },
    {
      "cell_type": "markdown",
      "metadata": {
        "id": "IY5L-h-7zWhN"
      },
      "source": [
        "<h1>Задача 3. Напишите функцию, которая возвращает уникальные элементы из каждой строки матрицы. Напишите такую же функцию, но для столбцов. Напишите тесты для кода"
      ]
    },
    {
      "cell_type": "code",
      "execution_count": 9,
      "metadata": {
        "id": "-8dEZhR0SBC-"
      },
      "outputs": [
        {
          "name": "stdout",
          "output_type": "stream",
          "text": [
            "✅ Матрица с повторениями\n",
            "✅ Матрица без повторений\n",
            "✅ Отрицательные числа\n"
          ]
        }
      ],
      "source": [
        "import numpy as np\n",
        "\n",
        "def unique_rows(mat):\n",
        "    return [np.unique(row) for row in mat]\n",
        "\n",
        "def unique_columns(mat):\n",
        "    return [np.unique(col) for col in mat.T]\n",
        "\n",
        "def test_unique_functions():\n",
        "    \n",
        "    # Тест 1: Матрица с повторениями\n",
        "    mat1 = np.array([[1, 2, 2],\n",
        "                     [3, 3, 3],\n",
        "                     [4, 5, 4]])\n",
        "    \n",
        "    rows1 = unique_rows(mat1)\n",
        "    cols1 = unique_columns(mat1)\n",
        "    \n",
        "    expected_rows1 = [np.array([1, 2]), np.array([3]), np.array([4, 5])]\n",
        "    expected_cols1 = [np.array([1, 3, 4]), np.array([2, 3, 5]), np.array([2, 3, 4])]\n",
        "    \n",
        "    rows_ok = all(np.array_equal(r, e) for r, e in zip(rows1, expected_rows1))\n",
        "    cols_ok = all(np.array_equal(c, e) for c, e in zip(cols1, expected_cols1))\n",
        "    \n",
        "    if rows_ok and cols_ok:\n",
        "        print(\"✅ Матрица с повторениями\")\n",
        "    else:\n",
        "        print(\"❌ Матрица с повторениями\")\n",
        "    \n",
        "    # Тест 2: Матрица без повторений\n",
        "    mat2 = np.array([[1, 2, 3],\n",
        "                     [4, 5, 6],\n",
        "                     [7, 8, 9]])\n",
        "    \n",
        "    rows2 = unique_rows(mat2)\n",
        "    cols2 = unique_columns(mat2)\n",
        "    \n",
        "    expected_rows2 = [np.array([1, 2, 3]), np.array([4, 5, 6]), np.array([7, 8, 9])]\n",
        "    expected_cols2 = [np.array([1, 4, 7]), np.array([2, 5, 8]), np.array([3, 6, 9])]\n",
        "    \n",
        "    rows_ok = all(np.array_equal(r, e) for r, e in zip(rows2, expected_rows2))\n",
        "    cols_ok = all(np.array_equal(c, e) for c, e in zip(cols2, expected_cols2))\n",
        "    \n",
        "    if rows_ok and cols_ok:\n",
        "        print(\"✅ Матрица без повторений\")\n",
        "    else:\n",
        "        print(\"❌ Матрица без повторений\")\n",
        "    \n",
        "    # Тест 3: Отрицательные числа\n",
        "    mat3 = np.array([[-1, 0, -1],\n",
        "                     [0, 1, 0]])\n",
        "    \n",
        "    rows3 = unique_rows(mat3)\n",
        "    cols3 = unique_columns(mat3)\n",
        "    \n",
        "    expected_rows3 = [np.array([-1, 0]), np.array([0, 1])]\n",
        "    expected_cols3 = [np.array([-1, 0]), np.array([0, 1]), np.array([-1, 0])]\n",
        "    \n",
        "    rows_ok = all(np.array_equal(r, e) for r, e in zip(rows3, expected_rows3))\n",
        "    cols_ok = all(np.array_equal(c, e) for c, e in zip(cols3, expected_cols3))\n",
        "    \n",
        "    if rows_ok and cols_ok:\n",
        "        print(\"✅ Отрицательные числа\")\n",
        "    else:\n",
        "        print(\"❌ Отрицательные числа\")\n",
        "\n",
        "test_unique_functions()"
      ]
    },
    {
      "cell_type": "markdown",
      "metadata": {
        "id": "roYAlo4Jz-lH"
      },
      "source": [
        "<h1>Задача 4. Напишите функцию, которая заполняет матрицу с размерами $(m, n)$ случайными числами, распределенными по нормальному закону. Затем считает мат. ожидание и дисперсию для каждого из столбцов и строк, а также строит для каждой строки и столбца гистограмму значений (использовать функцию hist из модуля matplotlib.plot)"
      ]
    },
    {
      "cell_type": "code",
      "execution_count": null,
      "metadata": {
        "id": "nZK_71hMSQzv"
      },
      "outputs": [
        {
          "name": "stdout",
          "output_type": "stream",
          "text": [
            "Матожидание по строкам: [ 0.5015115   0.88511916 -0.55211224]\n",
            "Дисперсия по строкам: [1.24599392 1.12021514 0.21855466]\n",
            "Матожидание по столбцам: [ 0.31645217  0.89394702  0.21731101 -0.31501897]\n",
            "Дисперсия по столбцам: [0.20090278 2.08025409 1.85069458 0.05512608]\n"
          ]
        },
        {
          "data": {
            "image/png": "[encoded data removed]",
            "text/plain": [
              "<Figure size 640x480 with 1 Axes>"
            ]
          },
          "metadata": {},
          "output_type": "display_data"
        },
        {
          "data": {
            "image/png": "[encoded data removed]",
            "text/plain": [
              "<Figure size 640x480 with 1 Axes>"
            ]
          },
          "metadata": {},
          "output_type": "display_data"
        },
        {
          "data": {
            "image/png": "[encoded data removed]",
            "text/plain": [
              "<Figure size 640x480 with 1 Axes>"
            ]
          },
          "metadata": {},
          "output_type": "display_data"
        },
        {
          "data": {
            "image/png": "[encoded data removed]",
            "text/plain": [
              "<Figure size 640x480 with 1 Axes>"
            ]
          },
          "metadata": {},
          "output_type": "display_data"
        },
        {
          "data": {
            "image/png": "[encoded data removed]",
            "text/plain": [
              "<Figure size 640x480 with 1 Axes>"
            ]
          },
          "metadata": {},
          "output_type": "display_data"
        },
        {
          "data": {
            "image/png": "[encoded data removed]",
            "text/plain": [
              "<Figure size 640x480 with 1 Axes>"
            ]
          },
          "metadata": {},
          "output_type": "display_data"
        },
        {
          "data": {
            "image/png": "[encoded data removed]",
            "text/plain": [
              "<Figure size 640x480 with 1 Axes>"
            ]
          },
          "metadata": {},
          "output_type": "display_data"
        },
        {
          "data": {
            "text/plain": [
              "array([[ 0.88346566,  2.15878733, -0.59650641, -0.43970058],\n",
              "       [ 0.27835517,  1.64735347,  2.13396068, -0.51919269],\n",
              "       [-0.21246433, -1.12429974, -0.88552125,  0.01383636]])"
            ]
          },
          "execution_count": 11,
          "metadata": {},
          "output_type": "execute_result"
        }
      ],
      "source": [
        "import numpy as np\n",
        "import matplotlib.pyplot as plt\n",
        "\n",
        "def analyze_matrix(m, n):\n",
        "    matrix = np.random.normal(0, 1, (m, n))\n",
        "\n",
        "    row_means = np.mean(matrix, axis=1)\n",
        "    row_vars = np.var(matrix, axis=1)\n",
        "    col_means = np.mean(matrix, axis=0)\n",
        "    col_vars = np.var(matrix, axis=0)\n",
        "\n",
        "    print(\"Матожидание по строкам:\", row_means)\n",
        "    print(\"Дисперсия по строкам:\", row_vars)\n",
        "    print(\"Матожидание по столбцам:\", col_means)\n",
        "    print(\"Дисперсия по столбцам:\", col_vars)\n",
        "\n",
        "    for i in range(m):\n",
        "        plt.hist(matrix[i])\n",
        "        plt.title(f'Строка {i}')\n",
        "        plt.show()\n",
        "\n",
        "    for j in range(n):\n",
        "        plt.hist(matrix[:, j])\n",
        "        plt.title(f'Столбец {j}')\n",
        "        plt.show()\n",
        "    \n",
        "    return matrix\n",
        "\n",
        "analyze_matrix(3, 4)"
      ]
    },
    {
      "cell_type": "markdown",
      "metadata": {
        "id": "BDyATNdM0dJ2"
      },
      "source": [
        "<h1>Задача 5. Напишите функцию, которая заполняет матрицу $(m, n)$ в шахматном порядке заданными числами $a$ и $b$. Напишите тесты для кода"
      ]
    },
    {
      "cell_type": "code",
      "execution_count": 14,
      "metadata": {
        "id": "RWNJYWQGecS6"
      },
      "outputs": [
        {
          "name": "stdout",
          "output_type": "stream",
          "text": [
            "✅ Матрица 2x2:\n",
            "[[0 1]\n",
            " [1 0]]\n",
            "✅ Матрица 3x3 с символами:\n",
            "[['A' 'B' 'A']\n",
            " ['B' 'A' 'B']\n",
            " ['A' 'B' 'A']]\n",
            "✅ Матрица 1x1:\n",
            "[[5]]\n",
            "✅ Матрица 2x4:\n",
            "[[ 1 -1  1 -1]\n",
            " [-1  1 -1  1]]\n"
          ]
        }
      ],
      "source": [
        "import numpy as np\n",
        "\n",
        "def chessboard_matrix(m, n, a, b):\n",
        "    matrix = np.zeros((m, n), dtype=type(a))\n",
        "    \n",
        "    for i in range(m):\n",
        "        for j in range(n):\n",
        "            if (i + j) % 2 == 0:\n",
        "                matrix[i, j] = a\n",
        "            else:\n",
        "                matrix[i, j] = b\n",
        "                \n",
        "    return matrix\n",
        "\n",
        "def test_chessboard_matrix():\n",
        "    \n",
        "    # Тест 1: Матрица 2x2\n",
        "    result1 = chessboard_matrix(2, 2, 0, 1)\n",
        "    expected1 = np.array([[0, 1], [1, 0]])\n",
        "    if np.array_equal(result1, expected1):\n",
        "        print(\"✅ Матрица 2x2:\")\n",
        "        print(result1)\n",
        "    else:\n",
        "        print(\"❌ Матрица 2x2\")\n",
        "    \n",
        "    # Тест 2: Матрица 3x3\n",
        "    result2 = chessboard_matrix(3, 3, 'A', 'B')\n",
        "    expected2 = np.array([['A', 'B', 'A'], ['B', 'A', 'B'], ['A', 'B', 'A']])\n",
        "    if np.array_equal(result2, expected2):\n",
        "        print(\"✅ Матрица 3x3 с символами:\")\n",
        "        print(result2)\n",
        "    else:\n",
        "        print(\"❌ Матрица 3x3 с символами\")\n",
        "    \n",
        "    # Тест 3: Матрица 1x1\n",
        "    result3 = chessboard_matrix(1, 1, 5, 10)\n",
        "    expected3 = np.array([[5]])\n",
        "    if np.array_equal(result3, expected3):\n",
        "        print(\"✅ Матрица 1x1:\")\n",
        "        print(result3)\n",
        "    else:\n",
        "        print(\"❌ Матрица 1x1\")\n",
        "    \n",
        "    # Тест 4: Матрица 2x4\n",
        "    result4 = chessboard_matrix(2, 4, 1, -1)\n",
        "    expected4 = np.array([[1, -1, 1, -1], [-1, 1, -1, 1]])\n",
        "    if np.array_equal(result4, expected4):\n",
        "        print(\"✅ Матрица 2x4:\")\n",
        "        print(result4)\n",
        "    else:\n",
        "        print(\"❌ Матрица 2x4\")\n",
        "\n",
        "test_chessboard_matrix()"
      ]
    },
    {
      "cell_type": "markdown",
      "metadata": {
        "id": "-ymXLtTN0vB6"
      },
      "source": [
        "<h1>Задача 6. Напишите функцию, которая отрисовывает прямоугольник с заданными размерами (a, b) на изображении размера (m, n), цвет фона задайте в схеме RGB, как и цвет прямоугольника. Цвета также должны быть параметрами функции. Напишите аналогичную функцию но для овала с полуосями a и b. Напишите тесты для кода.\n",
        "Примечание: уравнение эллипса (границы овала) можно записать как:\n",
        "<h1>$\\frac{(x-x_0)^2}{a^2}+\\frac{(y-y_0)^2}{b^2}=1$"
      ]
    },
    {
      "cell_type": "code",
      "execution_count": 17,
      "metadata": {
        "id": "sNfl1t_kfOF4"
      },
      "outputs": [
        {
          "data": {
            "image/png": "[encoded data removed]",
            "text/plain": [
              "<Figure size 800x400 with 2 Axes>"
            ]
          },
          "metadata": {},
          "output_type": "display_data"
        },
        {
          "name": "stdout",
          "output_type": "stream",
          "text": [
            "✅ Тест 1: Прямоугольник и круг\n"
          ]
        }
      ],
      "source": [
        "import numpy as np\n",
        "import matplotlib.pyplot as plt\n",
        "\n",
        "def draw_rectangle(a, b, m, n, rectangle_color, background_color):\n",
        "    image = np.zeros((m, n, 3), dtype=np.uint8)\n",
        "    image[:, :] = background_color\n",
        "    \n",
        "    x_center, y_center = n // 2, m // 2\n",
        "    x_start = max(0, x_center - a // 2)\n",
        "    x_end = min(n, x_center + a // 2)\n",
        "    y_start = max(0, y_center - b // 2)\n",
        "    y_end = min(m, y_center + b // 2)\n",
        "    \n",
        "    image[y_start:y_end, x_start:x_end] = rectangle_color\n",
        "    return image\n",
        "\n",
        "def draw_ellipse(a, b, m, n, ellipse_color, background_color):\n",
        "    image = np.zeros((m, n, 3), dtype=np.uint8)\n",
        "    image[:, :] = background_color\n",
        "    \n",
        "    x0, y0 = n // 2, m // 2\n",
        "    y, x = np.ogrid[:m, :n]\n",
        "    \n",
        "    mask = ((x - x0) / a)**2 + ((y - y0) / b)**2 <= 1\n",
        "    image[mask] = ellipse_color\n",
        "    \n",
        "    return image\n",
        "\n",
        "def test_draw_functions():\n",
        "\n",
        "    plt.figure(figsize=(8, 4))\n",
        "    \n",
        "    plt.subplot(1, 2, 1)\n",
        "    rect2 = draw_rectangle(50, 30, 80, 80, (0, 0, 255), (200, 200, 200))\n",
        "    plt.imshow(rect2)\n",
        "    plt.title('Прямоугольник 50x30\\nСиний на сером')\n",
        "    plt.axis('off')\n",
        "    \n",
        "    plt.subplot(1, 2, 2)\n",
        "    circle = draw_ellipse(25, 25, 80, 80, (255, 255, 0), (50, 50, 50))\n",
        "    plt.imshow(circle)\n",
        "    plt.title('Круг радиусом 25\\nЖелтый на темно-сером')\n",
        "    plt.axis('off')\n",
        "    \n",
        "    plt.tight_layout()\n",
        "    plt.show()\n",
        "    \n",
        "    print(\"✅ Тест 1: Прямоугольник и круг\")\n",
        "\n",
        "test_draw_functions()"
      ]
    },
    {
      "cell_type": "markdown",
      "metadata": {
        "id": "S82c38oz244H"
      },
      "source": [
        "<h1>Задача 7. Дан некий временной ряд. Для данного ряда нужно найти его: математическое ожидание, дисперсию, СКО, найти все локальные максимумы и минимумы (локальный максимум - это точка, которая больше своих соседних точек, а локальный минимум - это точка, которая меньше своих соседей), а также вычислить для данного ряда другой ряд, получаемый методом скользящего среднего с размером окна $p$.\n",
        "<h1>Примечание: метод скользящего среднего подразумевает нахождение среднего из подмножетсва ряда размером $p$"
      ]
    },
    {
      "cell_type": "code",
      "execution_count": 19,
      "metadata": {
        "id": "Zb9mIVge5MMt"
      },
      "outputs": [
        {
          "name": "stdout",
          "output_type": "stream",
          "text": [
            "✅ Тест 1 - Простой ряд:\n",
            "   Ряд: [1 3 2 4 1 5 2]\n",
            "   Матожидание: 2.57\n",
            "   Дисперсия: 1.96\n",
            "   СКО: 1.40\n",
            "   Локальные максимумы: индексы [1 3 5]\n",
            "   Локальные минимумы: индексы [2 4]\n",
            "   Скользящее среднее (p=3): [2.         3.         2.33333333 3.33333333 2.66666667]\n",
            "\n",
            "✅ Тест 2 - Ряд с повторениями:\n",
            "   Ряд: [2 1 1 3 2 2 4 3 1]\n",
            "   Матожидание: 2.11\n",
            "   Дисперсия: 0.99\n",
            "   СКО: 0.99\n",
            "   Локальные максимумы: индексы [3 6]\n",
            "   Локальные минимумы: индексы []\n",
            "   Скользящее среднее (p=2): [1.5 1.  2.  2.5 2.  3.  3.5 2. ]\n"
          ]
        }
      ],
      "source": [
        "import numpy as np\n",
        "\n",
        "def analyze_time_series(series, p):\n",
        "    mean = np.mean(series)\n",
        "    variance = np.var(series)\n",
        "    std = np.std(series)\n",
        "\n",
        "    local_maxima = []\n",
        "    local_minima = []\n",
        "    \n",
        "    for i in range(1, len(series) - 1):\n",
        "        if series[i] > series[i-1] and series[i] > series[i+1]:\n",
        "            local_maxima.append(i)\n",
        "        elif series[i] < series[i-1] and series[i] < series[i+1]:\n",
        "            local_minima.append(i)\n",
        "\n",
        "    moving_avg = np.convolve(series, np.ones(p)/p, mode='valid')\n",
        "    \n",
        "    return {\n",
        "        'mean': mean,\n",
        "        'variance': variance,\n",
        "        'std': std,\n",
        "        'local_maxima': np.array(local_maxima),\n",
        "        'local_minima': np.array(local_minima),\n",
        "        'moving_average': moving_avg\n",
        "    }\n",
        "\n",
        "def test_analyze_time_series():\n",
        "    \n",
        "    # Тест 1: Простой ряд\n",
        "    series1 = np.array([1, 3, 2, 4, 1, 5, 2])\n",
        "    result1 = analyze_time_series(series1, 3)\n",
        "    \n",
        "    print(\"✅ Тест 1 - Простой ряд:\")\n",
        "    print(f\"   Ряд: {series1}\")\n",
        "    print(f\"   Матожидание: {result1['mean']:.2f}\")\n",
        "    print(f\"   Дисперсия: {result1['variance']:.2f}\")\n",
        "    print(f\"   СКО: {result1['std']:.2f}\")\n",
        "    print(f\"   Локальные максимумы: индексы {result1['local_maxima']}\")\n",
        "    print(f\"   Локальные минимумы: индексы {result1['local_minima']}\")\n",
        "    print(f\"   Скользящее среднее (p=3): {result1['moving_average']}\")\n",
        "    \n",
        "    # Тест 2: Ряд с повторяющимися значениями\n",
        "    series2 = np.array([2, 1, 1, 3, 2, 2, 4, 3, 1])\n",
        "    result2 = analyze_time_series(series2, 2)\n",
        "    \n",
        "    print(\"\\n✅ Тест 2 - Ряд с повторениями:\")\n",
        "    print(f\"   Ряд: {series2}\")\n",
        "    print(f\"   Матожидание: {result2['mean']:.2f}\")\n",
        "    print(f\"   Дисперсия: {result2['variance']:.2f}\")\n",
        "    print(f\"   СКО: {result2['std']:.2f}\")\n",
        "    print(f\"   Локальные максимумы: индексы {result2['local_maxima']}\")\n",
        "    print(f\"   Локальные минимумы: индексы {result2['local_minima']}\")\n",
        "    print(f\"   Скользящее среднее (p=2): {result2['moving_average']}\")\n",
        "\n",
        "test_analyze_time_series()"
      ]
    },
    {
      "cell_type": "markdown",
      "metadata": {
        "id": "jPkylmOX5O9n"
      },
      "source": [
        "<h1> Задача 8. Дан некоторый вектор с целочисленными метками классов, напишите функцию, которая выполняет one-hot-encoding для данного вектора\n",
        "<h1> One-hot-encoding - представление, в котором на месте метки некоторого класса стоит 1, в остальных позициях стоит 0. Например для вектора [0, 2, 3, 0] one-hot-encoding выглядит как: [[1, 0, 0, 0], [0, 0, 1, 0], [0, 0, 0, 1], [1, 0, 0, 0]]"
      ]
    },
    {
      "cell_type": "code",
      "execution_count": 22,
      "metadata": {
        "id": "Y-jlnZvw56lD"
      },
      "outputs": [
        {
          "name": "stdout",
          "output_type": "stream",
          "text": [
            "✅ Тест 1:\n",
            "   Вход: [0, 2, 3, 0]\n",
            "   Результат:\n",
            "[[1. 0. 0. 0.]\n",
            " [0. 0. 1. 0.]\n",
            " [0. 0. 0. 1.]\n",
            " [1. 0. 0. 0.]]\n",
            "\n",
            "✅ Тест 2:\n",
            "   Вход: [0, 1, 2, 1, 0]\n",
            "   Результат:\n",
            "[[1. 0. 0.]\n",
            " [0. 1. 0.]\n",
            " [0. 0. 1.]\n",
            " [0. 1. 0.]\n",
            " [1. 0. 0.]]\n"
          ]
        }
      ],
      "source": [
        "import numpy as np\n",
        "\n",
        "def one_hot_encoding(labels):\n",
        "    labels = np.array(labels)\n",
        "    n_classes = np.max(labels) + 1  \n",
        "    n_samples = len(labels)\n",
        "\n",
        "    one_hot = np.zeros((n_samples, n_classes))\n",
        "    for i, label in enumerate(labels):\n",
        "        one_hot[i, label] = 1\n",
        "    \n",
        "    return one_hot\n",
        "\n",
        "def test_one_hot_encoding():\n",
        "    \n",
        "    # Тест 1: Пример из условия\n",
        "    labels1 = [0, 2, 3, 0]\n",
        "    result1 = one_hot_encoding(labels1)\n",
        "    \n",
        "    print(\"✅ Тест 1:\")\n",
        "    print(f\"   Вход: {labels1}\")\n",
        "    print(f\"   Результат:\\n{result1}\")\n",
        "    \n",
        "    # Тест 2: Последовательные метки\n",
        "    labels2 = [0, 1, 2, 1, 0]\n",
        "    result2 = one_hot_encoding(labels2)\n",
        "    \n",
        "    print(\"\\n✅ Тест 2:\")\n",
        "    print(f\"   Вход: {labels2}\")\n",
        "    print(f\"   Результат:\\n{result2}\")\n",
        "\n",
        "test_one_hot_encoding()"
      ]
    }
  ],
  "metadata": {
    "colab": {
      "provenance": []
    },
    "kernelspec": {
      "display_name": "Python 3",
      "name": "python3"
    },
    "language_info": {
      "codemirror_mode": {
        "name": "ipython",
        "version": 3
      },
      "file_extension": ".py",
      "mimetype": "text/x-python",
      "name": "python",
      "nbconvert_exporter": "python",
      "pygments_lexer": "ipython3",
      "version": "3.12.1"
    }
  },
  "nbformat": 4,
  "nbformat_minor": 0
}
